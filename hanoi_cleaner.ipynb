{
 "cells": [
  {
   "cell_type": "markdown",
   "metadata": {},
   "source": [
    "# Hanoi Towers"
   ]
  },
  {
   "cell_type": "markdown",
   "metadata": {},
   "source": [
    "### Import and global variable"
   ]
  },
  {
   "cell_type": "code",
   "execution_count": 20,
   "metadata": {},
   "outputs": [],
   "source": [
    "#### global variables\n",
    "nb_disk = int(input(\"Enter the number of disks: \"))\n",
    "move_list = []"
   ]
  },
  {
   "cell_type": "markdown",
   "metadata": {},
   "source": [
    "### Auxilliary functions"
   ]
  },
  {
   "cell_type": "code",
   "execution_count": 9,
   "metadata": {},
   "outputs": [],
   "source": [
    "def towers_initialisation():\n",
    "    '''\n",
    "    Board initialisation\n",
    "    I: none\n",
    "    O: list of lists with number of disks disks on the first tower\n",
    "    '''\n",
    "    global nb_disk\n",
    "    towers = [[], [], []] # we always have 3 towers so we can hardcode it as a list of of 3 lists\n",
    "    # we fill the first tower (from the biggest to the smallest)\n",
    "    for i in range(nb_disk, 0, -1): \n",
    "        towers[0].append(i)\n",
    "    return towers\n",
    "\n",
    "\n",
    "\n",
    "def is_valid_move(towers , source, destination):\n",
    "    ''' \n",
    "    Verify if the move is valid\n",
    "    I: the towers, the source tower and the destination tower of the move\n",
    "    O: Bool, True if the move is valid, False otherwise\n",
    "    '''\n",
    "    # check if the towwer of destination is empty as we can move any disk to an empty tower\n",
    "    if towers[destination] == [] and towers[source] != []:\n",
    "        return True\n",
    "    # check if the tower of source is empty as we can't move any disk from an empty tower\n",
    "    if towers[source] == []:\n",
    "        return False\n",
    "    # check if the disk of source is bigger than the disk of destination as we can't move a bigger disk on a smaller one\n",
    "    elif towers[source][-1] > towers[destination][-1]:\n",
    "        return False\n",
    "    else:\n",
    "        return True\n",
    "    \n",
    "    \n",
    "def move_disk(towers, source, destination):\n",
    "    ''' \n",
    "    Move a disk from a tower to another if the move is valid else ask the user to enter a new move\n",
    "    I: the towers, the source tower and the destination tower of the move\n",
    "    O: the towers\n",
    "    '''\n",
    "    while not is_valid_move(towers, source, destination): # we continue to ask the user to enter a move until he does enter a valid one\n",
    "        print(\"Invalid move\")\n",
    "        source = int(input(\"Enter the source tower: \"))\n",
    "        destination = int(input(\"Enter the destination tower: \"))\n",
    "    disk = towers[source].pop() # we remove the disk from the source tower\n",
    "    towers[destination].append(disk) # we add the disk to the destination tower\n",
    "    return towers\n",
    "\n",
    "\n",
    "def is_finished(towers):\n",
    "    ''' \n",
    "    check if the game is finished\n",
    "    I: the towers\n",
    "    O: Bool, True if the game is finished, False otherwise\n",
    "    '''\n",
    "    if towers[0] == [] and towers[1] == []: # if the first and the second tower are empty then the game is finished\n",
    "        return True\n",
    "    else:\n",
    "        return False\n",
    "    \n"
   ]
  },
  {
   "cell_type": "markdown",
   "metadata": {},
   "source": [
    "### Terminal display functions"
   ]
  },
  {
   "cell_type": "code",
   "execution_count": 18,
   "metadata": {},
   "outputs": [],
   "source": [
    "def display_towers_terminal0(towers):\n",
    "    ''' \n",
    "    Display the towers in the terminal (most generic version)\n",
    "    I: the towers\n",
    "    O: none\n",
    "    '''\n",
    "    for i in range(len(towers)):\n",
    "        print(towers[i])\n",
    "    print(\"\")\n",
    "    \n",
    "    \n",
    "def display_towers_terminal1(towers):\n",
    "    ''' \n",
    "    Display the towers in the terminal (more advance version)\n",
    "    I: the towers\n",
    "    O: none\n",
    "    '''\n",
    "    global nb_disk\n",
    "    for i in range(nb_disk):\n",
    "        for j in range(len(towers)):\n",
    "            print(\" \"*25, end=\" \")\n",
    "            if len(towers[j]) >= nb_disk - i:\n",
    "                print(towers[j][nb_disk - i - 1],\"  \", end=\" \")\n",
    "            else:\n",
    "                print(\"    \", end=\" \")\n",
    "        \n",
    "        print(\"\")\n",
    "    print(\"_\"*180)\n"
   ]
  },
  {
   "cell_type": "markdown",
   "metadata": {},
   "source": [
    "### Game loop"
   ]
  },
  {
   "cell_type": "code",
   "execution_count": null,
   "metadata": {},
   "outputs": [],
   "source": []
  },
  {
   "cell_type": "markdown",
   "metadata": {},
   "source": [
    "### Test sets"
   ]
  },
  {
   "cell_type": "code",
   "execution_count": 19,
   "metadata": {},
   "outputs": [
    {
     "name": "stdout",
     "output_type": "stream",
     "text": [
      "-----Auxilliary fonction test-----\n",
      "nombre de disque:  3\n",
      "test towers_initialisation:  [[3, 2, 1], [], []]\n",
      "test is_valid_move (0->2):  True\n",
      "test move_disk:  [[3, 2], [], [1]]\n",
      "test is_finished [[3, 2, 1], [], []] :  False\n",
      "test is_finished [[], [], [1]] :  True\n",
      "\n",
      "\n",
      "-----Terminal display fonction test-----\n",
      "[3, 2, 1]\n",
      "[]\n",
      "[]\n",
      "\n",
      "test display_towers_terminal0:  None\n",
      "                          1                                                                  \n",
      "                          2                                                             2    \n",
      "                          3                              1                              1    \n",
      "____________________________________________________________________________________________________________________________________________________________________________________\n",
      "test display_towers_terminal1 :  None\n"
     ]
    }
   ],
   "source": [
    "print(\"-----Auxilliary fonction test-----\")\n",
    "print (\"nombre de disque: \",nb_disk)\n",
    "print (\"test towers_initialisation: \",towers_initialisation())\n",
    "print (\"test is_valid_move (0->2): \",is_valid_move(towers_initialisation(), 0, 2))\n",
    "print(\"test move_disk: \",move_disk(towers_initialisation(), 0, 2))\n",
    "print(\"test is_finished [[3, 2, 1], [], []] : \",is_finished([[3, 2, 1], [], []]))\n",
    "print(\"test is_finished [[], [], [1]] : \",is_finished([[], [], [1]]))\n",
    "print(\"\\n\")\n",
    "\n",
    "print(\"-----Terminal display fonction test-----\")\n",
    "print(\"test display_towers_terminal0: \",display_towers_terminal0(towers_initialisation()))\n",
    "towers_test_terminal1 = [[3, 2, 1], [1], [1,2]] ; print(\"test display_towers_terminal1 : \",display_towers_terminal1(towers_test_terminal1))\n"
   ]
  }
 ],
 "metadata": {
  "kernelspec": {
   "display_name": "Python 3",
   "language": "python",
   "name": "python3"
  },
  "language_info": {
   "codemirror_mode": {
    "name": "ipython",
    "version": 3
   },
   "file_extension": ".py",
   "mimetype": "text/x-python",
   "name": "python",
   "nbconvert_exporter": "python",
   "pygments_lexer": "ipython3",
   "version": "3.9.13"
  },
  "orig_nbformat": 4
 },
 "nbformat": 4,
 "nbformat_minor": 2
}
