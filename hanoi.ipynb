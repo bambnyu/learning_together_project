{
 "cells": [
  {
   "cell_type": "code",
   "execution_count": 2,
   "metadata": {},
   "outputs": [],
   "source": [
    "# the tower and the disks will be represented by lists of lists of integers\n",
    "\n",
    "def towers_initialisation(n):\n",
    "    towers = [[], [], []]\n",
    "    for i in range(n, 0, -1):\n",
    "        towers[0].append(i)\n",
    "    return towers\n",
    "\n",
    "\n",
    "#print (towers_initialisation(3))\n"
   ]
  },
  {
   "cell_type": "code",
   "execution_count": 3,
   "metadata": {},
   "outputs": [],
   "source": [
    "def is_valid_move(towers , source, destination):\n",
    "    #to check if the towwer of destination is empty as we can move any disk to an empty tower\n",
    "    if towers[destination] == []:\n",
    "        return True\n",
    "    #to check if the tower of source is empty as we can't move any disk from an empty tower\n",
    "    if towers[source] == []:\n",
    "        return False\n",
    "    #to check if the disk of source is bigger than the disk of destination as we can't move a bigger disk on a smaller one\n",
    "    elif towers[source][-1] > towers[destination][-1]:\n",
    "        return False\n",
    "    else:\n",
    "        return True\n",
    "    "
   ]
  },
  {
   "cell_type": "code",
   "execution_count": 4,
   "metadata": {},
   "outputs": [
    {
     "name": "stdout",
     "output_type": "stream",
     "text": [
      "[[3, 2], [], [1]]\n"
     ]
    }
   ],
   "source": [
    "def move_disk(towers, source, destination):\n",
    "    while not is_valid_move(towers, source, destination):\n",
    "        print(\"Invalid move\")\n",
    "        source = int(input(\"Enter the source tower: \"))\n",
    "        destination = int(input(\"Enter the destination tower: \"))\n",
    "    disk = towers[source].pop()\n",
    "    towers[destination].append(disk)\n",
    "    return towers\n",
    "\n",
    "print(move_disk(towers_initialisation(3), 0, 2))"
   ]
  },
  {
   "cell_type": "code",
   "execution_count": 5,
   "metadata": {},
   "outputs": [],
   "source": [
    "def is_finished(towers):\n",
    "    if towers[0] == [] and towers[1] == []:\n",
    "        return True\n",
    "    else:\n",
    "        return False"
   ]
  },
  {
   "cell_type": "code",
   "execution_count": 6,
   "metadata": {},
   "outputs": [],
   "source": [
    "def display_towers_terminal0(towers):\n",
    "    for i in range(len(towers)):\n",
    "        print(towers[i])\n",
    "    print(\"\")\n",
    "    \n",
    "    \n",
    "#display_towers_terminal0(towers_initialisation(3))"
   ]
  },
  {
   "cell_type": "code",
   "execution_count": 33,
   "metadata": {},
   "outputs": [],
   "source": [
    "# print the towers\n",
    "def display_towers_terminal1(towers, nb_disk):\n",
    "    print\n",
    "    for i in range(nb_disk):\n",
    "        for j in range(len(towers)):\n",
    "            print(\" \"*25, end=\" \")\n",
    "            if len(towers[j]) >= nb_disk - i:\n",
    "                print(towers[j][nb_disk - i - 1],\"  \", end=\" \")\n",
    "            else:\n",
    "                print(\"    \", end=\" \")\n",
    "        \n",
    "        print(\"\")\n",
    "    print(\"_\"*180)\n",
    "\n",
    "\n",
    "#towers = [[3, 2, 1], [1], [1,2]]\n",
    "#display_towers_terminal1(towers, 3)\n",
    "        \n"
   ]
  },
  {
   "cell_type": "code",
   "execution_count": 7,
   "metadata": {},
   "outputs": [
    {
     "name": "stdout",
     "output_type": "stream",
     "text": [
      "[3, 2, 1]\n",
      "[]\n",
      "[]\n",
      "\n"
     ]
    },
    {
     "ename": "ValueError",
     "evalue": "invalid literal for int() with base 10: ''",
     "output_type": "error",
     "traceback": [
      "\u001b[1;31m---------------------------------------------------------------------------\u001b[0m",
      "\u001b[1;31mValueError\u001b[0m                                Traceback (most recent call last)",
      "\u001b[1;32mc:\\Users\\Ame\\Documents\\GitHub\\learning_together_project\\hanoi.ipynb Cell 6\u001b[0m line \u001b[0;36m1\n\u001b[0;32m      <a href='vscode-notebook-cell:/c%3A/Users/Ame/Documents/GitHub/learning_together_project/hanoi.ipynb#W5sZmlsZQ%3D%3D?line=6'>7</a>\u001b[0m         move_disk(towers, source, destination)\n\u001b[0;32m      <a href='vscode-notebook-cell:/c%3A/Users/Ame/Documents/GitHub/learning_together_project/hanoi.ipynb#W5sZmlsZQ%3D%3D?line=7'>8</a>\u001b[0m     \u001b[39mprint\u001b[39m(\u001b[39m\"\u001b[39m\u001b[39mGame finished\u001b[39m\u001b[39m\"\u001b[39m)\n\u001b[1;32m---> <a href='vscode-notebook-cell:/c%3A/Users/Ame/Documents/GitHub/learning_together_project/hanoi.ipynb#W5sZmlsZQ%3D%3D?line=9'>10</a>\u001b[0m game_loop()\n",
      "\u001b[1;32mc:\\Users\\Ame\\Documents\\GitHub\\learning_together_project\\hanoi.ipynb Cell 6\u001b[0m line \u001b[0;36m5\n\u001b[0;32m      <a href='vscode-notebook-cell:/c%3A/Users/Ame/Documents/GitHub/learning_together_project/hanoi.ipynb#W5sZmlsZQ%3D%3D?line=2'>3</a>\u001b[0m \u001b[39mwhile\u001b[39;00m \u001b[39mnot\u001b[39;00m is_finished(towers):\n\u001b[0;32m      <a href='vscode-notebook-cell:/c%3A/Users/Ame/Documents/GitHub/learning_together_project/hanoi.ipynb#W5sZmlsZQ%3D%3D?line=3'>4</a>\u001b[0m     display_towers_terminal0(towers)\n\u001b[1;32m----> <a href='vscode-notebook-cell:/c%3A/Users/Ame/Documents/GitHub/learning_together_project/hanoi.ipynb#W5sZmlsZQ%3D%3D?line=4'>5</a>\u001b[0m     source \u001b[39m=\u001b[39m \u001b[39mint\u001b[39;49m(\u001b[39minput\u001b[39;49m(\u001b[39m\"\u001b[39;49m\u001b[39mEnter the source tower : \u001b[39;49m\u001b[39m\"\u001b[39;49m))\n\u001b[0;32m      <a href='vscode-notebook-cell:/c%3A/Users/Ame/Documents/GitHub/learning_together_project/hanoi.ipynb#W5sZmlsZQ%3D%3D?line=5'>6</a>\u001b[0m     destination \u001b[39m=\u001b[39m \u001b[39mint\u001b[39m(\u001b[39minput\u001b[39m(\u001b[39m\"\u001b[39m\u001b[39mEnter the destination tower : \u001b[39m\u001b[39m\"\u001b[39m))\n\u001b[0;32m      <a href='vscode-notebook-cell:/c%3A/Users/Ame/Documents/GitHub/learning_together_project/hanoi.ipynb#W5sZmlsZQ%3D%3D?line=6'>7</a>\u001b[0m     move_disk(towers, source, destination)\n",
      "\u001b[1;31mValueError\u001b[0m: invalid literal for int() with base 10: ''"
     ]
    }
   ],
   "source": [
    "def game_loop0():\n",
    "    towers = towers_initialisation(3)\n",
    "    while not is_finished(towers):\n",
    "        display_towers_terminal0(towers)\n",
    "        source = int(input(\"Enter the source tower : \"))\n",
    "        destination = int(input(\"Enter the destination tower : \"))\n",
    "        move_disk(towers, source, destination)\n",
    "    print(\"Game finished\")\n",
    "    \n",
    "game_loop0()"
   ]
  },
  {
   "cell_type": "code",
   "execution_count": 34,
   "metadata": {},
   "outputs": [
    {
     "name": "stdout",
     "output_type": "stream",
     "text": [
      "                          1                                                                  \n",
      "                          2                                                                  \n",
      "                          3                                                                  \n",
      "____________________________________________________________________________________________________________________________________________________________________________________\n",
      "                                                                                             \n",
      "                          2                                                                  \n",
      "                          3                                                             1    \n",
      "____________________________________________________________________________________________________________________________________________________________________________________\n",
      "                                                                                             \n",
      "                                                                                             \n",
      "                          3                              2                              1    \n",
      "____________________________________________________________________________________________________________________________________________________________________________________\n",
      "                                                                                             \n",
      "                                                         1                                   \n",
      "                          3                              2                                   \n",
      "____________________________________________________________________________________________________________________________________________________________________________________\n"
     ]
    },
    {
     "ename": "IndexError",
     "evalue": "pop from empty list",
     "output_type": "error",
     "traceback": [
      "\u001b[1;31m---------------------------------------------------------------------------\u001b[0m",
      "\u001b[1;31mIndexError\u001b[0m                                Traceback (most recent call last)",
      "\u001b[1;32mc:\\Users\\Ame\\Documents\\GitHub\\learning_together_project\\hanoi.ipynb Cell 8\u001b[0m line \u001b[0;36m1\n\u001b[0;32m      <a href='vscode-notebook-cell:/c%3A/Users/Ame/Documents/GitHub/learning_together_project/hanoi.ipynb#X10sZmlsZQ%3D%3D?line=6'>7</a>\u001b[0m         move_disk(towers, source, destination)\n\u001b[0;32m      <a href='vscode-notebook-cell:/c%3A/Users/Ame/Documents/GitHub/learning_together_project/hanoi.ipynb#X10sZmlsZQ%3D%3D?line=7'>8</a>\u001b[0m     \u001b[39mprint\u001b[39m(\u001b[39m\"\u001b[39m\u001b[39mGame finished\u001b[39m\u001b[39m\"\u001b[39m)\n\u001b[1;32m---> <a href='vscode-notebook-cell:/c%3A/Users/Ame/Documents/GitHub/learning_together_project/hanoi.ipynb#X10sZmlsZQ%3D%3D?line=9'>10</a>\u001b[0m game_loop1(\u001b[39m3\u001b[39;49m)\n",
      "\u001b[1;32mc:\\Users\\Ame\\Documents\\GitHub\\learning_together_project\\hanoi.ipynb Cell 8\u001b[0m line \u001b[0;36m7\n\u001b[0;32m      <a href='vscode-notebook-cell:/c%3A/Users/Ame/Documents/GitHub/learning_together_project/hanoi.ipynb#X10sZmlsZQ%3D%3D?line=4'>5</a>\u001b[0m     source \u001b[39m=\u001b[39m \u001b[39mint\u001b[39m(\u001b[39minput\u001b[39m(\u001b[39m\"\u001b[39m\u001b[39mEnter the source tower : \u001b[39m\u001b[39m\"\u001b[39m))\n\u001b[0;32m      <a href='vscode-notebook-cell:/c%3A/Users/Ame/Documents/GitHub/learning_together_project/hanoi.ipynb#X10sZmlsZQ%3D%3D?line=5'>6</a>\u001b[0m     destination \u001b[39m=\u001b[39m \u001b[39mint\u001b[39m(\u001b[39minput\u001b[39m(\u001b[39m\"\u001b[39m\u001b[39mEnter the destination tower : \u001b[39m\u001b[39m\"\u001b[39m))\n\u001b[1;32m----> <a href='vscode-notebook-cell:/c%3A/Users/Ame/Documents/GitHub/learning_together_project/hanoi.ipynb#X10sZmlsZQ%3D%3D?line=6'>7</a>\u001b[0m     move_disk(towers, source, destination)\n\u001b[0;32m      <a href='vscode-notebook-cell:/c%3A/Users/Ame/Documents/GitHub/learning_together_project/hanoi.ipynb#X10sZmlsZQ%3D%3D?line=7'>8</a>\u001b[0m \u001b[39mprint\u001b[39m(\u001b[39m\"\u001b[39m\u001b[39mGame finished\u001b[39m\u001b[39m\"\u001b[39m)\n",
      "\u001b[1;32mc:\\Users\\Ame\\Documents\\GitHub\\learning_together_project\\hanoi.ipynb Cell 8\u001b[0m line \u001b[0;36m6\n\u001b[0;32m      <a href='vscode-notebook-cell:/c%3A/Users/Ame/Documents/GitHub/learning_together_project/hanoi.ipynb#X10sZmlsZQ%3D%3D?line=3'>4</a>\u001b[0m     source \u001b[39m=\u001b[39m \u001b[39mint\u001b[39m(\u001b[39minput\u001b[39m(\u001b[39m\"\u001b[39m\u001b[39mEnter the source tower: \u001b[39m\u001b[39m\"\u001b[39m))\n\u001b[0;32m      <a href='vscode-notebook-cell:/c%3A/Users/Ame/Documents/GitHub/learning_together_project/hanoi.ipynb#X10sZmlsZQ%3D%3D?line=4'>5</a>\u001b[0m     destination \u001b[39m=\u001b[39m \u001b[39mint\u001b[39m(\u001b[39minput\u001b[39m(\u001b[39m\"\u001b[39m\u001b[39mEnter the destination tower: \u001b[39m\u001b[39m\"\u001b[39m))\n\u001b[1;32m----> <a href='vscode-notebook-cell:/c%3A/Users/Ame/Documents/GitHub/learning_together_project/hanoi.ipynb#X10sZmlsZQ%3D%3D?line=5'>6</a>\u001b[0m disk \u001b[39m=\u001b[39m towers[source]\u001b[39m.\u001b[39;49mpop()\n\u001b[0;32m      <a href='vscode-notebook-cell:/c%3A/Users/Ame/Documents/GitHub/learning_together_project/hanoi.ipynb#X10sZmlsZQ%3D%3D?line=6'>7</a>\u001b[0m towers[destination]\u001b[39m.\u001b[39mappend(disk)\n\u001b[0;32m      <a href='vscode-notebook-cell:/c%3A/Users/Ame/Documents/GitHub/learning_together_project/hanoi.ipynb#X10sZmlsZQ%3D%3D?line=7'>8</a>\u001b[0m \u001b[39mreturn\u001b[39;00m towers\n",
      "\u001b[1;31mIndexError\u001b[0m: pop from empty list"
     ]
    }
   ],
   "source": [
    "def game_loop1(nb_disk):\n",
    "    towers = towers_initialisation(nb_disk)\n",
    "    while not is_finished(towers):\n",
    "        display_towers_terminal1(towers,nb_disk)\n",
    "        source = int(input(\"Enter the source tower : \"))\n",
    "        destination = int(input(\"Enter the destination tower : \"))\n",
    "        move_disk(towers, source, destination)\n",
    "    print(\"Game finished\")\n",
    "    \n",
    "game_loop1(3)"
   ]
  }
 ],
 "metadata": {
  "kernelspec": {
   "display_name": "Python 3",
   "language": "python",
   "name": "python3"
  },
  "language_info": {
   "codemirror_mode": {
    "name": "ipython",
    "version": 3
   },
   "file_extension": ".py",
   "mimetype": "text/x-python",
   "name": "python",
   "nbconvert_exporter": "python",
   "pygments_lexer": "ipython3",
   "version": "3.9.13"
  },
  "orig_nbformat": 4
 },
 "nbformat": 4,
 "nbformat_minor": 2
}
