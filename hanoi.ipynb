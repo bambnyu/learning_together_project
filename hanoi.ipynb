{
 "cells": [
  {
   "cell_type": "code",
   "execution_count": 2,
   "metadata": {},
   "outputs": [],
   "source": [
    "# the tower and the disks will be represented by lists of lists of integers\n",
    "\n",
    "def towers_initialisation(n):\n",
    "    towers = [[], [], []]\n",
    "    for i in range(n, 0, -1):\n",
    "        towers[0].append(i)\n",
    "    return towers\n",
    "\n",
    "\n",
    "#print (towers_initialisation(3))\n"
   ]
  },
  {
   "cell_type": "code",
   "execution_count": 3,
   "metadata": {},
   "outputs": [],
   "source": [
    "def is_valid_move(towers , source, destination):\n",
    "    #to check if the towwer of destination is empty as we can move any disk to an empty tower\n",
    "    if towers[destination] == [] and towers[source] != []:\n",
    "        return True\n",
    "    #to check if the tower of source is empty as we can't move any disk from an empty tower\n",
    "    if towers[source] == []:\n",
    "        return False\n",
    "    #to check if the disk of source is bigger than the disk of destination as we can't move a bigger disk on a smaller one\n",
    "    elif towers[source][-1] > towers[destination][-1]:\n",
    "        return False\n",
    "    else:\n",
    "        return True\n",
    "    "
   ]
  },
  {
   "cell_type": "code",
   "execution_count": 4,
   "metadata": {},
   "outputs": [
    {
     "name": "stdout",
     "output_type": "stream",
     "text": [
      "[[3, 2], [], [1]]\n"
     ]
    }
   ],
   "source": [
    "def move_disk(towers, source, destination):\n",
    "    while not is_valid_move(towers, source, destination):\n",
    "        print(\"Invalid move\")\n",
    "        source = int(input(\"Enter the source tower: \"))\n",
    "        destination = int(input(\"Enter the destination tower: \"))\n",
    "    disk = towers[source].pop()\n",
    "    towers[destination].append(disk)\n",
    "    return towers\n",
    "\n",
    "print(move_disk(towers_initialisation(3), 0, 2))"
   ]
  },
  {
   "cell_type": "code",
   "execution_count": 5,
   "metadata": {},
   "outputs": [],
   "source": [
    "def is_finished(towers):\n",
    "    if towers[0] == [] and towers[1] == []:\n",
    "        return True\n",
    "    else:\n",
    "        return False"
   ]
  },
  {
   "cell_type": "code",
   "execution_count": 6,
   "metadata": {},
   "outputs": [],
   "source": [
    "def display_towers_terminal0(towers):\n",
    "    for i in range(len(towers)):\n",
    "        print(towers[i])\n",
    "    print(\"\")\n",
    "    \n",
    "    \n",
    "#display_towers_terminal0(towers_initialisation(3))"
   ]
  },
  {
   "cell_type": "code",
   "execution_count": 7,
   "metadata": {},
   "outputs": [],
   "source": [
    "# print the towers\n",
    "def display_towers_terminal1(towers, nb_disk):\n",
    "    print\n",
    "    for i in range(nb_disk):\n",
    "        for j in range(len(towers)):\n",
    "            print(\" \"*25, end=\" \")\n",
    "            if len(towers[j]) >= nb_disk - i:\n",
    "                print(towers[j][nb_disk - i - 1],\"  \", end=\" \")\n",
    "            else:\n",
    "                print(\"    \", end=\" \")\n",
    "        \n",
    "        print(\"\")\n",
    "    print(\"_\"*180)\n",
    "\n",
    "\n",
    "#towers = [[3, 2, 1], [1], [1,2]]\n",
    "#display_towers_terminal1(towers, 3)\n",
    "        \n"
   ]
  },
  {
   "cell_type": "code",
   "execution_count": 10,
   "metadata": {},
   "outputs": [
    {
     "name": "stdout",
     "output_type": "stream",
     "text": [
      "[3, 2, 1]\n",
      "[]\n",
      "[]\n",
      "\n",
      "No move to cancel\n",
      "[3, 2, 1]\n",
      "[]\n",
      "[]\n",
      "\n",
      "Game finished\n"
     ]
    }
   ],
   "source": [
    "move_list = []\n",
    "\n",
    "def game_loop0():\n",
    "    towers = towers_initialisation(3)\n",
    "    while not is_finished(towers):\n",
    "        display_towers_terminal0(towers)\n",
    "\n",
    "        move = input(\"Enter the source tower and the destination tower (c to cancel the last move, q to quit game): \")\n",
    "        if move == \"q\":\n",
    "            break\n",
    "        if  move == \"c\":\n",
    "            if move_list != []:\n",
    "                moves = move_list.pop()\n",
    "                towers = move_disk(towers, moves[1], moves[0])\n",
    "            else:\n",
    "                print(\"No move to cancel\")\n",
    "        else:\n",
    "            source = int(move)\n",
    "            destination = int(input(\"Enter the destination tower : \"))\n",
    "            move_list.append([source, destination])\n",
    "            move_disk(towers, source, destination)\n",
    "    print(\"Game finished\")\n",
    "    \n",
    "game_loop0()"
   ]
  },
  {
   "cell_type": "code",
   "execution_count": 11,
   "metadata": {},
   "outputs": [
    {
     "name": "stdout",
     "output_type": "stream",
     "text": [
      "                          1                                                                  \n",
      "                          2                                                                  \n",
      "                          3                                                                  \n",
      "____________________________________________________________________________________________________________________________________________________________________________________\n",
      "                                                                                             \n",
      "                          2                                                                  \n",
      "                          3                                                             1    \n",
      "____________________________________________________________________________________________________________________________________________________________________________________\n",
      "                                                                                             \n",
      "                                                                                             \n",
      "                          3                              2                              1    \n",
      "____________________________________________________________________________________________________________________________________________________________________________________\n",
      "                                                                                             \n",
      "                                                         1                                   \n",
      "                          3                              2                                   \n",
      "____________________________________________________________________________________________________________________________________________________________________________________\n",
      "                                                                                             \n",
      "                                                         1                                   \n",
      "                                                         2                              3    \n",
      "____________________________________________________________________________________________________________________________________________________________________________________\n",
      "                                                                                             \n",
      "                                                                                             \n",
      "                          1                              2                              3    \n",
      "____________________________________________________________________________________________________________________________________________________________________________________\n",
      "                                                                                             \n",
      "                                                                                        2    \n",
      "                          1                                                             3    \n",
      "____________________________________________________________________________________________________________________________________________________________________________________\n",
      "Game finished\n"
     ]
    }
   ],
   "source": [
    "def game_loop1(nb_disk):\n",
    "    towers = towers_initialisation(nb_disk)\n",
    "    while not is_finished(towers):\n",
    "        display_towers_terminal1(towers,nb_disk)\n",
    "        move = input(\"Enter the source tower and the destination tower (c to cancel the last move, q to quit game): \")\n",
    "        if move == \"q\":\n",
    "            break\n",
    "        if  move == \"c\":\n",
    "            if move_list != []:\n",
    "                moves = move_list.pop()\n",
    "                towers = move_disk(towers, moves[1], moves[0])\n",
    "            else:\n",
    "                print(\"No move to cancel\")\n",
    "        else:\n",
    "            source = int(move)\n",
    "            destination = int(input(\"Enter the destination tower : \"))\n",
    "            move_list.append([source, destination])\n",
    "            move_disk(towers, source, destination)\n",
    "    print(\"Game finished\")\n",
    "    \n",
    "game_loop1(3)"
   ]
  },
  {
   "cell_type": "code",
   "execution_count": 17,
   "metadata": {},
   "outputs": [],
   "source": [
    "def move_disk_automatic(towers, source, destination):\n",
    "    disk = towers[source].pop()\n",
    "    towers[destination].append(disk)\n",
    "    return towers"
   ]
  },
  {
   "cell_type": "code",
   "execution_count": 20,
   "metadata": {},
   "outputs": [
    {
     "name": "stdout",
     "output_type": "stream",
     "text": [
      "                                                                                             \n",
      "                          2                                                                  \n",
      "                          3                                                             1    \n",
      "____________________________________________________________________________________________________________________________________________________________________________________\n",
      "                                                                                             \n",
      "                                                                                             \n",
      "                          3                              2                              1    \n",
      "____________________________________________________________________________________________________________________________________________________________________________________\n",
      "                                                                                             \n",
      "                                                         1                                   \n",
      "                          3                              2                                   \n",
      "____________________________________________________________________________________________________________________________________________________________________________________\n",
      "                                                                                             \n",
      "                                                         1                                   \n",
      "                                                         2                              3    \n",
      "____________________________________________________________________________________________________________________________________________________________________________________\n",
      "                                                                                             \n",
      "                                                                                             \n",
      "                          1                              2                              3    \n",
      "____________________________________________________________________________________________________________________________________________________________________________________\n",
      "                                                                                             \n",
      "                                                                                        2    \n",
      "                          1                                                             3    \n",
      "____________________________________________________________________________________________________________________________________________________________________________________\n",
      "                                                                                        1    \n",
      "                                                                                        2    \n",
      "                                                                                        3    \n",
      "____________________________________________________________________________________________________________________________________________________________________________________\n"
     ]
    }
   ],
   "source": [
    "def tower_of_hanoi_recursive(nb_disk, towers, source=0, auxiliary=1, destination=2):\n",
    "    if nb_disk == 1:\n",
    "        # Move the top disk from the source tower to the destination tower\n",
    "        move_disk(towers, source, destination)\n",
    "        display_towers_terminal1(towers,3)\n",
    "    else:\n",
    "        # Move n-1 disks from the source tower to the auxiliary tower using the destination tower\n",
    "        tower_of_hanoi_recursive(nb_disk - 1, towers, source, destination, auxiliary)\n",
    "\n",
    "        # Move the largest disk from the source tower to the destination tower\n",
    "        move_disk(towers, source, destination)\n",
    "        display_towers_terminal1(towers,3)\n",
    "        \n",
    "        # Move the n-1 disks from the auxiliary tower to the destination tower using the source tower\n",
    "        tower_of_hanoi_recursive(nb_disk - 1, towers, auxiliary, source, destination)\n",
    "\n",
    "towers = towers_initialisation(3)\n",
    "nb_disk = len(towers[0])\n",
    "\n",
    "tower_of_hanoi_recursive(nb_disk, towers)"
   ]
  },
  {
   "cell_type": "code",
   "execution_count": 22,
   "metadata": {},
   "outputs": [
    {
     "name": "stdout",
     "output_type": "stream",
     "text": [
      "                                                                                             \n",
      "                          2                                                                  \n",
      "                          3                                                             1    \n",
      "____________________________________________________________________________________________________________________________________________________________________________________\n",
      "                                                                                             \n",
      "                                                                                             \n",
      "                          3                              2                              1    \n",
      "____________________________________________________________________________________________________________________________________________________________________________________\n",
      "                                                                                             \n",
      "                                                         1                                   \n",
      "                          3                              2                                   \n",
      "____________________________________________________________________________________________________________________________________________________________________________________\n",
      "                                                                                             \n",
      "                                                         1                                   \n",
      "                                                         2                              3    \n",
      "____________________________________________________________________________________________________________________________________________________________________________________\n",
      "                                                                                             \n",
      "                                                                                             \n",
      "                          1                              2                              3    \n",
      "____________________________________________________________________________________________________________________________________________________________________________________\n",
      "                                                                                             \n",
      "                                                                                        2    \n",
      "                          1                                                             3    \n",
      "____________________________________________________________________________________________________________________________________________________________________________________\n",
      "                                                                                        1    \n",
      "                                                                                        2    \n",
      "                                                                                        3    \n",
      "____________________________________________________________________________________________________________________________________________________________________________________\n"
     ]
    }
   ],
   "source": [
    "def tower_of_hanoi_iterative(nb_disk, towers):\n",
    "    num_moves = 0\n",
    "    total_moves = 2**nb_disk - 1\n",
    "    source, auxiliary, destination = 0, 1, 2\n",
    "\n",
    "    if nb_disk % 2 == 0:\n",
    "        auxiliary, destination = destination, auxiliary\n",
    "\n",
    "    while num_moves < total_moves:\n",
    "        # Determine the legal move for the current step\n",
    "        if num_moves % 3 == 0:\n",
    "            check(towers, source, destination)\n",
    "        elif num_moves % 3 == 1:\n",
    "            check(towers, source, auxiliary)\n",
    "        else:\n",
    "            check(towers, auxiliary, destination)\n",
    "        num_moves += 1\n",
    "\n",
    "def check(towers, source, destination):\n",
    "    \n",
    "    if not towers[source]:\n",
    "        move_disk(towers, destination, source)\n",
    "        display_towers_terminal1(towers,nb_disk)\n",
    "    elif not towers[destination]:\n",
    "        move_disk(towers, source, destination)\n",
    "        display_towers_terminal1(towers,nb_disk)\n",
    "    elif towers[source][-1] > towers[destination][-1]:\n",
    "        move_disk(towers, destination, source)\n",
    "        display_towers_terminal1(towers,nb_disk)\n",
    "    else:\n",
    "        move_disk(towers, source, destination)\n",
    "        display_towers_terminal1(towers,nb_disk)\n",
    "\n",
    "# Initial state of the towers\n",
    "towers = towers_initialisation(3)\n",
    "nb_disk = len(towers[0])\n",
    "\n",
    "# Call the function to solve the Tower of Hanoi problem iteratively\n",
    "tower_of_hanoi_iterative(nb_disk, towers)"
   ]
  }
 ],
 "metadata": {
  "kernelspec": {
   "display_name": "Python 3",
   "language": "python",
   "name": "python3"
  },
  "language_info": {
   "codemirror_mode": {
    "name": "ipython",
    "version": 3
   },
   "file_extension": ".py",
   "mimetype": "text/x-python",
   "name": "python",
   "nbconvert_exporter": "python",
   "pygments_lexer": "ipython3",
   "version": "3.9.13"
  },
  "orig_nbformat": 4
 },
 "nbformat": 4,
 "nbformat_minor": 2
}
