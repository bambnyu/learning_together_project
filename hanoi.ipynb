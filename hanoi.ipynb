{
 "cells": [
  {
   "cell_type": "code",
   "execution_count": 1,
   "metadata": {},
   "outputs": [],
   "source": [
    "# the tower and the disks will be represented by lists of lists of integers\n",
    "\n",
    "def towers_initialisation(n):\n",
    "    towers = [[], [], []]\n",
    "    for i in range(n, 0, -1):\n",
    "        towers[0].append(i)\n",
    "    return towers\n",
    "\n",
    "\n",
    "#print (towers_initialisation(3))\n"
   ]
  },
  {
   "cell_type": "code",
   "execution_count": 2,
   "metadata": {},
   "outputs": [],
   "source": [
    "def is_valid_move(towers , source, destination):\n",
    "    #to check if the towwer of destination is empty as we can move any disk to an empty tower\n",
    "    if towers[destination] == []:\n",
    "        return True\n",
    "    #to check if the tower of source is empty as we can't move any disk from an empty tower\n",
    "    if towers[source] == []:\n",
    "        return False\n",
    "    #to check if the disk of source is bigger than the disk of destination as we can't move a bigger disk on a smaller one\n",
    "    elif towers[source][-1] > towers[destination][-1]:\n",
    "        return False\n",
    "    else:\n",
    "        return True\n",
    "    "
   ]
  },
  {
   "cell_type": "code",
   "execution_count": 11,
   "metadata": {},
   "outputs": [
    {
     "name": "stdout",
     "output_type": "stream",
     "text": [
      "[[3, 2], [], [1]]\n"
     ]
    }
   ],
   "source": [
    "def move_disk(towers, source, destination):\n",
    "    if is_valid_move(towers, source, destination):\n",
    "        disk = towers[source].pop()\n",
    "        towers[destination].append(disk)\n",
    "    else :\n",
    "        print(\"Invalid move\")\n",
    "    return towers\n",
    "\n",
    "print(move_disk(towers_initialisation(3), 0, 2))"
   ]
  },
  {
   "cell_type": "code",
   "execution_count": 12,
   "metadata": {},
   "outputs": [],
   "source": [
    "def is_finished(towers):\n",
    "    if towers[0] == [] and towers[1] == []:\n",
    "        return True\n",
    "    else:\n",
    "        return False"
   ]
  }
 ],
 "metadata": {
  "kernelspec": {
   "display_name": "Python 3",
   "language": "python",
   "name": "python3"
  },
  "language_info": {
   "codemirror_mode": {
    "name": "ipython",
    "version": 3
   },
   "file_extension": ".py",
   "mimetype": "text/x-python",
   "name": "python",
   "nbconvert_exporter": "python",
   "pygments_lexer": "ipython3",
   "version": "3.9.13"
  },
  "orig_nbformat": 4
 },
 "nbformat": 4,
 "nbformat_minor": 2
}
