{
 "cells": [
  {
   "cell_type": "code",
   "execution_count": 2,
   "metadata": {},
   "outputs": [
    {
     "name": "stdout",
     "output_type": "stream",
     "text": [
      "[[7, 6, 5, 4, 3, 2, 1], [], []]\n"
     ]
    }
   ],
   "source": [
    "# the tower and the disks will be represented by lists of lists of integers\n",
    "\n",
    "def towers_initialisation(n):\n",
    "    towers = [[], [], []]\n",
    "    for i in range(n, 0, -1):\n",
    "        towers[0].append(i)\n",
    "    return towers\n",
    "\n",
    "\n",
    "#print (towers_initialisation(3))\n"
   ]
  },
  {
   "cell_type": "code",
   "execution_count": 10,
   "metadata": {},
   "outputs": [],
   "source": [
    "def is_valid_move(towers , source, destination):\n",
    "    #to check if the towwer of destination is empty as we can move any disk to an empty tower\n",
    "    if towers[destination] == []:\n",
    "        return True\n",
    "    #to check if the tower of source is empty as we can't move any disk from an empty tower\n",
    "    if towers[source] == []:\n",
    "        return False\n",
    "    #to check if the disk of source is bigger than the disk of destination as we can't move a bigger disk on a smaller one\n",
    "    elif towers[source][-1] > towers[destination][-1]:\n",
    "        return False\n",
    "    else:\n",
    "        return True\n",
    "    "
   ]
  },
  {
   "cell_type": "code",
   "execution_count": 20,
   "metadata": {},
   "outputs": [
    {
     "name": "stdout",
     "output_type": "stream",
     "text": [
      "[[3, 2], [], [1]]\n"
     ]
    }
   ],
   "source": [
    "def move_disk(towers, source, destination):\n",
    "    while not is_valid_move(towers, source, destination):\n",
    "        print(\"Invalid move\")\n",
    "        source = int(input(\"Enter the source tower: \"))\n",
    "        destination = int(input(\"Enter the destination tower: \"))\n",
    "    disk = towers[source].pop()\n",
    "    towers[destination].append(disk)\n",
    "    return towers\n",
    "\n",
    "print(move_disk(towers_initialisation(3), 0, 2))"
   ]
  },
  {
   "cell_type": "code",
   "execution_count": 21,
   "metadata": {},
   "outputs": [],
   "source": [
    "def is_finished(towers):\n",
    "    if towers[0] == [] and towers[1] == []:\n",
    "        return True\n",
    "    else:\n",
    "        return False"
   ]
  },
  {
   "cell_type": "code",
   "execution_count": 22,
   "metadata": {},
   "outputs": [],
   "source": [
    "def display_towers_terminal0(towers):\n",
    "    for i in range(len(towers)):\n",
    "        print(towers[i])\n",
    "    print(\"\")\n",
    "    \n",
    "    \n",
    "#display_towers_terminal0(towers_initialisation(3))"
   ]
  },
  {
   "cell_type": "code",
   "execution_count": 23,
   "metadata": {},
   "outputs": [
    {
     "name": "stdout",
     "output_type": "stream",
     "text": [
      "[3, 2, 1]\n",
      "[]\n",
      "[]\n",
      "\n",
      "[3, 2]\n",
      "[1]\n",
      "[]\n",
      "\n",
      "Invalid move\n",
      "[3]\n",
      "[1]\n",
      "[2]\n",
      "\n",
      "[3, 1]\n",
      "[]\n",
      "[2]\n",
      "\n",
      "[3, 1]\n",
      "[2]\n",
      "[]\n",
      "\n",
      "[3]\n",
      "[2, 1]\n",
      "[]\n",
      "\n",
      "[]\n",
      "[2, 1]\n",
      "[3]\n",
      "\n",
      "[1]\n",
      "[2]\n",
      "[3]\n",
      "\n",
      "[1]\n",
      "[]\n",
      "[3, 2]\n",
      "\n",
      "Game finished\n"
     ]
    }
   ],
   "source": [
    "def game_loop():\n",
    "    towers = towers_initialisation(3)\n",
    "    while not is_finished(towers):\n",
    "        display_towers_terminal0(towers)\n",
    "        source = int(input(\"Enter the source tower : \"))\n",
    "        destination = int(input(\"Enter the destination tower : \"))\n",
    "        move_disk(towers, source, destination)\n",
    "    print(\"Game finished\")\n",
    "    \n",
    "game_loop()"
   ]
  },
  {
   "cell_type": "code",
   "execution_count": 25,
   "metadata": {},
   "outputs": [
    {
     "name": "stdout",
     "output_type": "stream",
     "text": [
      "aaaaaaaaaaaaaaaaaaaaaaaaaaaaaaaaaaaaaaaaaaaaaaaaaaaaaaaaaaaaaaaaaaaaaaaaaaaaaaaaaaaaaaaaaaaaaaaaaaaaaaaaaaaaaaaaaaaaaaaaaaaaaaaaaaaaaaaaaaaaaaaaaaaaaaaaaaaaaaaaaaaaaaaaaaaaaaaaaaaa\n"
     ]
    }
   ],
   "source": [
    "\n",
    "def display_1_tower(tower):\n",
    "    tower_height = len(tower) + 3\n",
    "    for i in range(tower_height):\n",
    "        \n",
    "        \n",
    "\n",
    "\n",
    "\n",
    "\n",
    "\n",
    "\n",
    "def display_towers_terminal1(towers):\n",
    "    x = 300*'_'\n",
    "    print(x)\n",
    "    \n",
    "x = 180*'a'\n",
    "print(x)   "
   ]
  }
 ],
 "metadata": {
  "kernelspec": {
   "display_name": "Python 3",
   "language": "python",
   "name": "python3"
  },
  "language_info": {
   "codemirror_mode": {
    "name": "ipython",
    "version": 3
   },
   "file_extension": ".py",
   "mimetype": "text/x-python",
   "name": "python",
   "nbconvert_exporter": "python",
   "pygments_lexer": "ipython3",
   "version": "3.9.13"
  },
  "orig_nbformat": 4
 },
 "nbformat": 4,
 "nbformat_minor": 2
}
