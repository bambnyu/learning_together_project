{
 "cells": [
  {
   "cell_type": "code",
   "execution_count": 2,
   "metadata": {},
   "outputs": [],
   "source": [
    "# the tower and the disks will be represented by lists of lists of integers\n",
    "\n",
    "def towers_initialisation(n):\n",
    "    towers = [[], [], []]\n",
    "    for i in range(n, 0, -1):\n",
    "        towers[0].append(i)\n",
    "    return towers\n",
    "\n",
    "\n",
    "#print (towers_initialisation(3))\n"
   ]
  },
  {
   "cell_type": "code",
   "execution_count": 3,
   "metadata": {},
   "outputs": [],
   "source": [
    "def is_valid_move(towers , source, destination):\n",
    "    #to check if the towwer of destination is empty as we can move any disk to an empty tower\n",
    "    if towers[destination] == [] and towers[source] != []:\n",
    "        return True\n",
    "    #to check if the tower of source is empty as we can't move any disk from an empty tower\n",
    "    if towers[source] == []:\n",
    "        return False\n",
    "    #to check if the disk of source is bigger than the disk of destination as we can't move a bigger disk on a smaller one\n",
    "    elif towers[source][-1] > towers[destination][-1]:\n",
    "        return False\n",
    "    else:\n",
    "        return True\n",
    "    "
   ]
  },
  {
   "cell_type": "code",
   "execution_count": 4,
   "metadata": {},
   "outputs": [
    {
     "name": "stdout",
     "output_type": "stream",
     "text": [
      "[[3, 2], [], [1]]\n"
     ]
    }
   ],
   "source": [
    "def move_disk(towers, source, destination):\n",
    "    while not is_valid_move(towers, source, destination):\n",
    "        print(\"Invalid move\")\n",
    "        source = int(input(\"Enter the source tower: \"))\n",
    "        destination = int(input(\"Enter the destination tower: \"))\n",
    "    disk = towers[source].pop()\n",
    "    towers[destination].append(disk)\n",
    "    return towers\n",
    "\n",
    "print(move_disk(towers_initialisation(3), 0, 2))"
   ]
  },
  {
   "cell_type": "code",
   "execution_count": 5,
   "metadata": {},
   "outputs": [],
   "source": [
    "def is_finished(towers):\n",
    "    if towers[0] == [] and towers[1] == []:\n",
    "        return True\n",
    "    else:\n",
    "        return False"
   ]
  },
  {
   "cell_type": "code",
   "execution_count": 6,
   "metadata": {},
   "outputs": [],
   "source": [
    "def display_towers_terminal0(towers):\n",
    "    for i in range(len(towers)):\n",
    "        print(towers[i])\n",
    "    print(\"\")\n",
    "    \n",
    "    \n",
    "#display_towers_terminal0(towers_initialisation(3))"
   ]
  },
  {
   "cell_type": "code",
   "execution_count": 7,
   "metadata": {},
   "outputs": [],
   "source": [
    "# print the towers\n",
    "def display_towers_terminal1(towers, nb_disk):\n",
    "    print\n",
    "    for i in range(nb_disk):\n",
    "        for j in range(len(towers)):\n",
    "            print(\" \"*25, end=\" \")\n",
    "            if len(towers[j]) >= nb_disk - i:\n",
    "                print(towers[j][nb_disk - i - 1],\"  \", end=\" \")\n",
    "            else:\n",
    "                print(\"    \", end=\" \")\n",
    "        \n",
    "        print(\"\")\n",
    "    print(\"_\"*180)\n",
    "\n",
    "\n",
    "#towers = [[3, 2, 1], [1], [1,2]]\n",
    "#display_towers_terminal1(towers, 3)\n",
    "        \n"
   ]
  },
  {
   "cell_type": "code",
   "execution_count": 10,
   "metadata": {},
   "outputs": [
    {
     "name": "stdout",
     "output_type": "stream",
     "text": [
      "[3, 2, 1]\n",
      "[]\n",
      "[]\n",
      "\n",
      "No move to cancel\n",
      "[3, 2, 1]\n",
      "[]\n",
      "[]\n",
      "\n",
      "Game finished\n"
     ]
    }
   ],
   "source": [
    "move_list = []\n",
    "\n",
    "def game_loop0():\n",
    "    towers = towers_initialisation(3)\n",
    "    while not is_finished(towers):\n",
    "        display_towers_terminal0(towers)\n",
    "\n",
    "        move = input(\"Enter the source tower and the destination tower (c to cancel the last move, q to quit game): \")\n",
    "        if move == \"q\":\n",
    "            break\n",
    "        if  move == \"c\":\n",
    "            if move_list != []:\n",
    "                moves = move_list.pop()\n",
    "                towers = move_disk(towers, moves[1], moves[0])\n",
    "            else:\n",
    "                print(\"No move to cancel\")\n",
    "        else:\n",
    "            source = int(move)\n",
    "            destination = int(input(\"Enter the destination tower : \"))\n",
    "            move_list.append([source, destination])\n",
    "            move_disk(towers, source, destination)\n",
    "    print(\"Game finished\")\n",
    "    \n",
    "game_loop0()"
   ]
  },
  {
   "cell_type": "code",
   "execution_count": 11,
   "metadata": {},
   "outputs": [
    {
     "name": "stdout",
     "output_type": "stream",
     "text": [
      "                          1                                                                  \n",
      "                          2                                                                  \n",
      "                          3                                                                  \n",
      "____________________________________________________________________________________________________________________________________________________________________________________\n",
      "                                                                                             \n",
      "                          2                                                                  \n",
      "                          3                                                             1    \n",
      "____________________________________________________________________________________________________________________________________________________________________________________\n",
      "                                                                                             \n",
      "                                                                                             \n",
      "                          3                              2                              1    \n",
      "____________________________________________________________________________________________________________________________________________________________________________________\n",
      "                                                                                             \n",
      "                                                         1                                   \n",
      "                          3                              2                                   \n",
      "____________________________________________________________________________________________________________________________________________________________________________________\n",
      "                                                                                             \n",
      "                                                         1                                   \n",
      "                                                         2                              3    \n",
      "____________________________________________________________________________________________________________________________________________________________________________________\n",
      "                                                                                             \n",
      "                                                                                             \n",
      "                          1                              2                              3    \n",
      "____________________________________________________________________________________________________________________________________________________________________________________\n",
      "                                                                                             \n",
      "                                                                                        2    \n",
      "                          1                                                             3    \n",
      "____________________________________________________________________________________________________________________________________________________________________________________\n",
      "Game finished\n"
     ]
    }
   ],
   "source": [
    "def game_loop1(nb_disk):\n",
    "    towers = towers_initialisation(nb_disk)\n",
    "    while not is_finished(towers):\n",
    "        display_towers_terminal1(towers,nb_disk)\n",
    "        move = input(\"Enter the source tower and the destination tower (c to cancel the last move, q to quit game): \")\n",
    "        if move == \"q\":\n",
    "            break\n",
    "        if  move == \"c\":\n",
    "            if move_list != []:\n",
    "                moves = move_list.pop()\n",
    "                towers = move_disk(towers, moves[1], moves[0])\n",
    "            else:\n",
    "                print(\"No move to cancel\")\n",
    "        else:\n",
    "            source = int(move)\n",
    "            destination = int(input(\"Enter the destination tower : \"))\n",
    "            move_list.append([source, destination])\n",
    "            move_disk(towers, source, destination)\n",
    "    print(\"Game finished\")\n",
    "    \n",
    "game_loop1(3)"
   ]
  },
  {
   "cell_type": "code",
   "execution_count": 18,
   "metadata": {},
   "outputs": [],
   "source": [
    "\n",
    "#### broken to be redone\n",
    "\n",
    "#n = 3\n",
    "#towers = towers_initialisation(n)\n",
    "#def game_loop2(towers, n, a = towers[0] , b = towers[1] , c = towers[2]):\n",
    "#    if (n > 0):\n",
    "#        game_loop2(towers, n - 1,a, c, b) \n",
    "#        disk = a.pop()\n",
    "#        b.append(disk)\n",
    "#        print (\"move \", a, \" on \", c)\n",
    "#        display_towers_terminal1(towers,3)\n",
    "#        game_loop2(towers, n - 1, b, a, c)\n",
    "        \n",
    "        \n",
    "        \n",
    "#game_loop2(towers,3)"
   ]
  },
  {
   "cell_type": "code",
   "execution_count": null,
   "metadata": {},
   "outputs": [],
   "source": [
    "# automatic game but iterative\n",
    "def game_loop3(nb_disk):\n",
    "    towers = towers_initialisation(nb_disk)\n",
    "    display_towers_terminal1(towers,nb_disk)\n",
    "    move_list = []\n",
    "    while not is_finished(towers):\n",
    "        #to be done    "
   ]
  }
 ],
 "metadata": {
  "kernelspec": {
   "display_name": "Python 3",
   "language": "python",
   "name": "python3"
  },
  "language_info": {
   "codemirror_mode": {
    "name": "ipython",
    "version": 3
   },
   "file_extension": ".py",
   "mimetype": "text/x-python",
   "name": "python",
   "nbconvert_exporter": "python",
   "pygments_lexer": "ipython3",
   "version": "3.9.13"
  },
  "orig_nbformat": 4
 },
 "nbformat": 4,
 "nbformat_minor": 2
}
